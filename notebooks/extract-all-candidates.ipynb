{
 "cells": [
  {
   "cell_type": "code",
   "execution_count": 217,
   "metadata": {},
   "outputs": [],
   "source": [
    "import pandas as pd\n",
    "import json"
   ]
  },
  {
   "cell_type": "code",
   "execution_count": 218,
   "metadata": {},
   "outputs": [],
   "source": [
    "with open ('../raw-files/all-party-information.json', 'r') as f:\n",
    "    parties = json.load(f)['data_list']\n",
    "\n",
    "partiesDict = dict(map(lambda x: (x['id_dga'], x), parties))\n",
    "\n",
    "def get_partyid_for_image(dgaId):\n",
    "    return partiesDict[dgaId]['id']"
   ]
  },
  {
   "cell_type": "code",
   "execution_count": 219,
   "metadata": {},
   "outputs": [
    {
     "data": {
      "text/plain": [
       "True"
      ]
     },
     "execution_count": 219,
     "metadata": {},
     "output_type": "execute_result"
    }
   ],
   "source": [
    "get_partyid_for_image(192) == 81"
   ]
  },
  {
   "cell_type": "code",
   "execution_count": 220,
   "metadata": {},
   "outputs": [],
   "source": [
    "def img_path(*elements):\n",
    "    return \"http://202.6.26.16/images/candidate/thumb/%s/%s/%s.jpg\" % elements"
   ]
  },
  {
   "cell_type": "code",
   "execution_count": 221,
   "metadata": {},
   "outputs": [],
   "source": [
    "df_zone_candidates = pd.read_csv('../raw-files/candidates.csv')\n",
    "df_pl_candidates = pd.read_csv('../data/partylist_candidates.csv')"
   ]
  },
  {
   "cell_type": "code",
   "execution_count": 222,
   "metadata": {},
   "outputs": [],
   "source": [
    "df_zone_candidates['image'] = df_zone_candidates.apply(lambda x: img_path(x['province_id'], x['zone_number'], x['CandidateId']), axis=1)\n",
    "df_zone_candidates['name'] = df_zone_candidates.apply(lambda r: '%s %s' % (r['FirstName'], r['LastName']), axis=1)\n",
    "df_zone_candidates['desc'] = df_zone_candidates.apply(lambda r: 'ส.ส. เขต (%s เขต %s)' % (r['province_name'], r['zone_number']), axis=1)\n",
    "df_zone_candidates['memberType'] = 'zone'"
   ]
  },
  {
   "cell_type": "code",
   "execution_count": 233,
   "metadata": {},
   "outputs": [],
   "source": [
    "df_pl_candidates['name'] = df_pl_candidates.apply(lambda x: '%s %s' % (x['FirstName'], x['LastName']), axis=1)\n",
    "df_pl_candidates['desc'] = df_pl_candidates.apply(lambda x: 'ส.ส. บัญชีรายชื่อ (ลำดับที่ %s)' % (x['CandidateNo']), axis=1)\n",
    "df_pl_candidates['image'] = df_pl_candidates.apply(lambda x: img_path('00', get_partyid_for_image(x['PartyNumber']), x['CandidateId']), axis=1)\n",
    "df_pl_candidates['memberType'] = 'partylist'\n",
    "df_pl_candidates['zone_number'] = \"-\"\n",
    "df_pl_candidates['province_name'] = \"-\""
   ]
  },
  {
   "cell_type": "code",
   "execution_count": 234,
   "metadata": {},
   "outputs": [
    {
     "data": {
      "text/plain": [
       "81"
      ]
     },
     "execution_count": 234,
     "metadata": {},
     "output_type": "execute_result"
    }
   ],
   "source": [
    "get_partyid_for_image(192)"
   ]
  },
  {
   "cell_type": "code",
   "execution_count": 235,
   "metadata": {},
   "outputs": [
    {
     "data": {
      "text/plain": [
       "[{'Unnamed: 0': 1432,\n",
       "  'CandidateId': 'a613dcff-bc85-489f-ba1f-cbe7cdb0bbd7',\n",
       "  'CandidateNo': 5,\n",
       "  'FirstName': 'หรรษธร',\n",
       "  'LastName': 'กำปั่นทอง',\n",
       "  'PartyName': 'อนาคตใหม่',\n",
       "  'PartyNumber': 177,\n",
       "  'Title': 'นาย',\n",
       "  'Votable': True,\n",
       "  'province_id': 25,\n",
       "  'province_name': 'ปราจีนบุรี',\n",
       "  'zone_number': 2,\n",
       "  'image': 'http://202.6.26.16/images/candidate/thumb/25/2/a613dcff-bc85-489f-ba1f-cbe7cdb0bbd7.jpg',\n",
       "  'name': 'หรรษธร กำปั่นทอง',\n",
       "  'desc': 'ส.ส. เขต (ปราจีนบุรี เขต 2)',\n",
       "  'memberType': 'zone'}]"
      ]
     },
     "execution_count": 235,
     "metadata": {},
     "output_type": "execute_result"
    }
   ],
   "source": [
    "df_zone_candidates[df_zone_candidates.CandidateId == 'a613dcff-bc85-489f-ba1f-cbe7cdb0bbd7'].to_dict('record')"
   ]
  },
  {
   "cell_type": "code",
   "execution_count": 236,
   "metadata": {},
   "outputs": [
    {
     "data": {
      "text/plain": [
       "array([0, '82547da2-ee9e-4e55-a9e0-9aa414956075', 1, 'ไกรสีห์',\n",
       "       'รัตนเศียร', 'ชาติพัฒนา', 45, 'นาย', True, 23, 'ตราด', 1,\n",
       "       'http://202.6.26.16/images/candidate/thumb/23/1/82547da2-ee9e-4e55-a9e0-9aa414956075.jpg',\n",
       "       'ไกรสีห์ รัตนเศียร', 'ส.ส. เขต (ตราด เขต 1)', 'zone'], dtype=object)"
      ]
     },
     "execution_count": 236,
     "metadata": {},
     "output_type": "execute_result"
    }
   ],
   "source": [
    "df_zone_candidates.loc[0].values"
   ]
  },
  {
   "cell_type": "code",
   "execution_count": 237,
   "metadata": {},
   "outputs": [
    {
     "data": {
      "text/plain": [
       "array([[2779, '00d3589a-aa2b-46fc-87c8-af7f11ff4346', 104, 'คิว',\n",
       "        'อรุโณรส', 'พลังประชารัฐ', 192, 'นาย', True, 'คิว อรุโณรส',\n",
       "        'ส.ส. บัญชีรายชื่อ (ลำดับที่ 104)',\n",
       "        'http://202.6.26.16/images/candidate/thumb/00/81/00d3589a-aa2b-46fc-87c8-af7f11ff4346.jpg',\n",
       "        'partylist', '-', '-']], dtype=object)"
      ]
     },
     "execution_count": 237,
     "metadata": {},
     "output_type": "execute_result"
    }
   ],
   "source": [
    "df_pl_candidates[df_pl_candidates.CandidateId == '00d3589a-aa2b-46fc-87c8-af7f11ff4346'].values"
   ]
  },
  {
   "cell_type": "code",
   "execution_count": 239,
   "metadata": {},
   "outputs": [],
   "source": [
    "attributes = ['name', 'desc', 'image', 'PartyName', 'memberType', 'province_name', 'zone_number']\n",
    "\n",
    "def extract_party_politician(party):\n",
    "    zone = df_zone_candidates[df_zone_candidates.PartyName == party][attributes]\n",
    "    plist = df_pl_candidates[df_pl_candidates.PartyName == party][attributes]\n",
    "\n",
    "    df_party = pd.concat([zone, plist])\n",
    "    df_party.to_csv('../data/party-politicians/%s.csv' % party.strip(), index=False, header=True)\n",
    "    return df_party"
   ]
  },
  {
   "cell_type": "code",
   "execution_count": 240,
   "metadata": {},
   "outputs": [],
   "source": [
    "# dd = extract_party_politician('พลังประชารัฐ')\n",
    "# dd"
   ]
  },
  {
   "cell_type": "code",
   "execution_count": 241,
   "metadata": {},
   "outputs": [],
   "source": [
    "for p in party_names:\n",
    "    extract_party_politician(p)"
   ]
  },
  {
   "cell_type": "code",
   "execution_count": 203,
   "metadata": {},
   "outputs": [],
   "source": [
    "with open ('../creden-scrape.txt', 'w') as f:\n",
    "    f.write('\\n'.join(party_names))"
   ]
  },
  {
   "cell_type": "code",
   "execution_count": 214,
   "metadata": {},
   "outputs": [],
   "source": [
    "attributes = ['CandidateId', 'name', 'CandidateNo', 'PartyName', 'province_name', 'zone_number']\n",
    "\n",
    "all_zone_candidates = df_zone_candidates[attributes].to_dict('records')"
   ]
  },
  {
   "cell_type": "code",
   "execution_count": 215,
   "metadata": {},
   "outputs": [],
   "source": [
    "# df_zone_candidates\n",
    "with open('../data/all-zone-candidates.json', 'w') as f:\n",
    "    json.dump(all_zone_candidates, f, ensure_ascii=False)"
   ]
  },
  {
   "cell_type": "code",
   "execution_count": 216,
   "metadata": {},
   "outputs": [
    {
     "data": {
      "text/plain": [
       "['เพื่อไทย',\n",
       " 'ประชาไทย',\n",
       " 'เพื่อไทยพัฒนา',\n",
       " 'เศรษฐกิจใหม่',\n",
       " 'เสรีรวมไทย',\n",
       " 'ทางเลือกใหม่',\n",
       " 'พลังคนกีฬา',\n",
       " 'รักษ์ธรรม',\n",
       " 'ประชาธรรมไทย',\n",
       " 'เพื่อสหกรณ์ไทย',\n",
       " 'มติประชา',\n",
       " 'พลังสหกรณ์',\n",
       " 'พลังชาติไทย',\n",
       " 'พลังแผ่นดินทอง',\n",
       " 'ภาคีเครือข่ายไทย',\n",
       " 'ประชาภิวัฒน์',\n",
       " 'เครือข่ายชาวนาแห่งประเทศไทย',\n",
       " 'ประชานิยม',\n",
       " 'กลาง',\n",
       " 'พลังประชารัฐ',\n",
       " 'เพื่อคนไทย',\n",
       " 'ความหวังใหม่',\n",
       " 'ไทยรุ่งเรือง',\n",
       " 'พลังรัก',\n",
       " 'ภราดรภาพ',\n",
       " 'ยางพาราไทย',\n",
       " 'พลังสังคม',\n",
       " 'ชาติพันธุ์ไทย',\n",
       " 'อนาคตใหม่',\n",
       " 'คนงานไทย',\n",
       " 'เพื่อชีวิตใหม่',\n",
       " 'พลังไทสร้างชาติ',\n",
       " 'กสิกรไทย',\n",
       " 'พลังไทยรักไทย',\n",
       " 'ภูมิใจไทย',\n",
       " 'รวมใจไทย',\n",
       " 'พลังศรัทธา',\n",
       " 'อนาคตไทย',\n",
       " 'ฐานรากไทย',\n",
       " 'ไทยศรีวิไลย์',\n",
       " 'แทนคุณแผ่นดิน',\n",
       " 'พลังปวงชนไทย',\n",
       " 'ชาติไทยพัฒนา',\n",
       " 'พลังไทยดี',\n",
       " 'สยามพัฒนา',\n",
       " 'เพื่อธรรม',\n",
       " 'เพื่อชาติ',\n",
       " 'รักษ์ผืนป่าประเทศไทย',\n",
       " 'พลังธรรมใหม่',\n",
       " 'มหาชน',\n",
       " 'ถิ่นกาขาวชาววิไล',\n",
       " 'ประชาธิปไตยใหม่',\n",
       " 'พลเมืองไทย',\n",
       " 'เพื่อนไทย',\n",
       " 'ประชาชาติ',\n",
       " 'ไทรักธรรม',\n",
       " 'รวมพลังประชาชาติไทย',\n",
       " 'กรีน',\n",
       " 'ครูไทยเพื่อประชาชน',\n",
       " 'พลังประชาธิปไตย',\n",
       " 'สังคมประชาธิปไตยไทย',\n",
       " 'พัฒนาประเทศไทย',\n",
       " 'ไทยรักษาชาติ ',\n",
       " 'ชาติพัฒนา',\n",
       " 'คลองไทย',\n",
       " 'เพื่อแผ่นดิน',\n",
       " 'สามัญชน ',\n",
       " 'ภูมิพลังเกษตรกรไทย',\n",
       " 'ประชาธิปไตยเพื่อประชาชน',\n",
       " 'ประชากรไทย',\n",
       " 'พลังครูไทย',\n",
       " 'คนธรรมดาแห่งประเทศไทย',\n",
       " 'ไทยธรรม',\n",
       " 'ผึ้งหลวง',\n",
       " 'ประชาชนปฏิรูป',\n",
       " 'ประชาธิปัตย์',\n",
       " 'พลังแรงงานไทย',\n",
       " 'พลังท้องถิ่นไท',\n",
       " 'รักท้องถิ่นไทย',\n",
       " 'แผ่นดินธรรม',\n",
       " 'พลังไทยรักชาติ']"
      ]
     },
     "execution_count": 216,
     "metadata": {},
     "output_type": "execute_result"
    }
   ],
   "source": [
    "party_names"
   ]
  },
  {
   "cell_type": "code",
   "execution_count": null,
   "metadata": {},
   "outputs": [],
   "source": []
  }
 ],
 "metadata": {
  "kernelspec": {
   "display_name": "Python-3-Code4th",
   "language": "python",
   "name": "python-3-code4th"
  },
  "language_info": {
   "codemirror_mode": {
    "name": "ipython",
    "version": 3
   },
   "file_extension": ".py",
   "mimetype": "text/x-python",
   "name": "python",
   "nbconvert_exporter": "python",
   "pygments_lexer": "ipython3",
   "version": "3.7.2"
  },
  "toc": {
   "nav_menu": {},
   "number_sections": true,
   "sideBar": true,
   "skip_h1_title": false,
   "toc_cell": false,
   "toc_position": {},
   "toc_section_display": "block",
   "toc_window_display": false
  }
 },
 "nbformat": 4,
 "nbformat_minor": 2
}
