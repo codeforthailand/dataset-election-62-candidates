{
 "cells": [
  {
   "cell_type": "code",
   "execution_count": 1,
   "metadata": {},
   "outputs": [],
   "source": [
    "import pandas as pd"
   ]
  },
  {
   "cell_type": "code",
   "execution_count": 2,
   "metadata": {},
   "outputs": [],
   "source": [
    "df = pd.read_csv('../raw-files/candidates.csv')"
   ]
  },
  {
   "cell_type": "code",
   "execution_count": 17,
   "metadata": {},
   "outputs": [],
   "source": [
    "df['name'] = df.apply(lambda r: '%s %s' % (r['FirstName'], r['LastName']), axis=1)\n",
    "df['desc'] = df.apply(lambda r: 'สส.เขต (%s เขต %s)' % (r['province_name'], r['zone_number']), axis=1)"
   ]
  },
  {
   "cell_type": "code",
   "execution_count": 4,
   "metadata": {},
   "outputs": [],
   "source": [
    "df_party = df[df.PartyName == 'พลังประชารัฐ']"
   ]
  },
  {
   "cell_type": "code",
   "execution_count": 22,
   "metadata": {},
   "outputs": [],
   "source": [
    "def extract_party_politician(party):\n",
    "    df_party = df[df.PartyName == party]\n",
    "    df_party = df_party[['name', 'desc']]\n",
    "    df_party.to_csv('../data/party-politicians/%s.csv' % party, index=False, header=True)\n",
    "    return df_party"
   ]
  },
  {
   "cell_type": "code",
   "execution_count": 23,
   "metadata": {},
   "outputs": [],
   "source": [
    "for p in list(set(df.PartyName.values)):\n",
    "    extract_party_politician(p)"
   ]
  },
  {
   "cell_type": "code",
   "execution_count": 31,
   "metadata": {},
   "outputs": [
    {
     "data": {
      "text/html": [
       "<div>\n",
       "<style scoped>\n",
       "    .dataframe tbody tr th:only-of-type {\n",
       "        vertical-align: middle;\n",
       "    }\n",
       "\n",
       "    .dataframe tbody tr th {\n",
       "        vertical-align: top;\n",
       "    }\n",
       "\n",
       "    .dataframe thead th {\n",
       "        text-align: right;\n",
       "    }\n",
       "</style>\n",
       "<table border=\"1\" class=\"dataframe\">\n",
       "  <thead>\n",
       "    <tr style=\"text-align: right;\">\n",
       "      <th></th>\n",
       "      <th>Unnamed: 0</th>\n",
       "      <th>CandidateId</th>\n",
       "      <th>CandidateNo</th>\n",
       "      <th>FirstName</th>\n",
       "      <th>LastName</th>\n",
       "      <th>PartyName</th>\n",
       "      <th>PartyNumber</th>\n",
       "      <th>Title</th>\n",
       "      <th>Votable</th>\n",
       "      <th>province_id</th>\n",
       "      <th>province_name</th>\n",
       "      <th>zone_number</th>\n",
       "    </tr>\n",
       "  </thead>\n",
       "  <tbody>\n",
       "    <tr>\n",
       "      <th>1609</th>\n",
       "      <td>1609</td>\n",
       "      <td>be3ba912-36b0-4086-a40f-9a74d672617a</td>\n",
       "      <td>12</td>\n",
       "      <td>ณิชชา</td>\n",
       "      <td>แก้วนุ้ย</td>\n",
       "      <td>ชาติพัฒนา</td>\n",
       "      <td>45</td>\n",
       "      <td>นางสาว</td>\n",
       "      <td>True</td>\n",
       "      <td>93</td>\n",
       "      <td>พัทลุง</td>\n",
       "      <td>2</td>\n",
       "    </tr>\n",
       "    <tr>\n",
       "      <th>1764</th>\n",
       "      <td>1764</td>\n",
       "      <td>c6774cd0-8835-4709-abdc-19630c17a00e</td>\n",
       "      <td>8</td>\n",
       "      <td>ณิชชา</td>\n",
       "      <td>พิมพ์สว่าง</td>\n",
       "      <td>พลังท้องถิ่นไท</td>\n",
       "      <td>124</td>\n",
       "      <td>นาง</td>\n",
       "      <td>True</td>\n",
       "      <td>76</td>\n",
       "      <td>เพชรบุรี</td>\n",
       "      <td>1</td>\n",
       "    </tr>\n",
       "    <tr>\n",
       "      <th>10635</th>\n",
       "      <td>10635</td>\n",
       "      <td>83142202-4b16-400d-9085-42f340152445</td>\n",
       "      <td>10</td>\n",
       "      <td>ณิชชา</td>\n",
       "      <td>บุญลือ</td>\n",
       "      <td>อนาคตใหม่</td>\n",
       "      <td>177</td>\n",
       "      <td>นางสาว</td>\n",
       "      <td>True</td>\n",
       "      <td>10</td>\n",
       "      <td>กรุงเทพมหานคร</td>\n",
       "      <td>13</td>\n",
       "    </tr>\n",
       "  </tbody>\n",
       "</table>\n",
       "</div>"
      ],
      "text/plain": [
       "       Unnamed: 0                           CandidateId  CandidateNo  \\\n",
       "1609         1609  be3ba912-36b0-4086-a40f-9a74d672617a           12   \n",
       "1764         1764  c6774cd0-8835-4709-abdc-19630c17a00e            8   \n",
       "10635       10635  83142202-4b16-400d-9085-42f340152445           10   \n",
       "\n",
       "      FirstName    LastName       PartyName  PartyNumber   Title  Votable  \\\n",
       "1609      ณิชชา    แก้วนุ้ย       ชาติพัฒนา           45  นางสาว     True   \n",
       "1764      ณิชชา  พิมพ์สว่าง  พลังท้องถิ่นไท          124     นาง     True   \n",
       "10635     ณิชชา      บุญลือ       อนาคตใหม่          177  นางสาว     True   \n",
       "\n",
       "       province_id  province_name  zone_number  \n",
       "1609            93         พัทลุง            2  \n",
       "1764            76       เพชรบุรี            1  \n",
       "10635           10  กรุงเทพมหานคร           13  "
      ]
     },
     "execution_count": 31,
     "metadata": {},
     "output_type": "execute_result"
    }
   ],
   "source": [
    "df[df.FirstName == \"ณิชชา\"]"
   ]
  },
  {
   "cell_type": "code",
   "execution_count": 9,
   "metadata": {},
   "outputs": [
    {
     "data": {
      "text/plain": [
       "['รวมพลังประชาชาติไทย',\n",
       " 'ภูมิพลังเกษตรกรไทย',\n",
       " 'ยางพาราไทย',\n",
       " 'ประชาธิปัตย์',\n",
       " 'ชาติไทยพัฒนา',\n",
       " 'พลังไทยรักไทย',\n",
       " 'พลเมืองไทย',\n",
       " 'คนงานไทย',\n",
       " 'ประชาธรรมไทย',\n",
       " 'พลังประชาธิปไตย',\n",
       " 'เครือข่ายชาวนาแห่งประเทศไทย',\n",
       " 'เพื่อธรรม',\n",
       " 'ประชาธิปไตยเพื่อประชาชน',\n",
       " 'พลังท้องถิ่นไท',\n",
       " 'เพื่อชาติ',\n",
       " 'กรีน',\n",
       " 'เสรีรวมไทย',\n",
       " 'พลังแผ่นดินทอง',\n",
       " 'พลังประชารัฐ',\n",
       " 'ไทยรุ่งเรือง',\n",
       " 'ความหวังใหม่',\n",
       " 'แทนคุณแผ่นดิน',\n",
       " 'สามัญชน ',\n",
       " 'เพื่อไทย',\n",
       " 'ฐานรากไทย',\n",
       " 'เพื่อแผ่นดิน',\n",
       " 'กสิกรไทย',\n",
       " 'เพื่อไทยพัฒนา',\n",
       " 'พลังแรงงานไทย',\n",
       " 'พลังชาติไทย',\n",
       " 'พลังไทยรักชาติ',\n",
       " 'ภาคีเครือข่ายไทย',\n",
       " 'สยามพัฒนา',\n",
       " 'ไทรักธรรม',\n",
       " 'ประชาไทย',\n",
       " 'พัฒนาประเทศไทย',\n",
       " 'ประชานิยม',\n",
       " 'ชาติพันธุ์ไทย',\n",
       " 'พลังสหกรณ์',\n",
       " 'ประชาชาติ',\n",
       " 'อนาคตใหม่',\n",
       " 'พลังไทยดี',\n",
       " 'พลังสังคม',\n",
       " 'ไทยศรีวิไลย์',\n",
       " 'รักษ์ธรรม',\n",
       " 'ประชากรไทย',\n",
       " 'ประชาธิปไตยใหม่',\n",
       " 'สังคมประชาธิปไตยไทย',\n",
       " 'คนธรรมดาแห่งประเทศไทย',\n",
       " 'พลังคนกีฬา',\n",
       " 'พลังครูไทย',\n",
       " 'มติประชา',\n",
       " 'ภูมิใจไทย',\n",
       " 'คลองไทย',\n",
       " 'พลังรัก',\n",
       " 'ประชาภิวัฒน์',\n",
       " 'พลังศรัทธา',\n",
       " 'ทางเลือกใหม่',\n",
       " 'รักษ์ผืนป่าประเทศไทย',\n",
       " 'อนาคตไทย',\n",
       " 'มหาชน',\n",
       " 'เพื่อชีวิตใหม่',\n",
       " 'รักท้องถิ่นไทย',\n",
       " 'พลังปวงชนไทย',\n",
       " 'เพื่อสหกรณ์ไทย',\n",
       " 'ชาติพัฒนา',\n",
       " 'ประชาชนปฏิรูป',\n",
       " 'เพื่อนไทย',\n",
       " 'เพื่อคนไทย',\n",
       " 'พลังไทสร้างชาติ',\n",
       " 'ผึ้งหลวง',\n",
       " 'แผ่นดินธรรม',\n",
       " 'ภราดรภาพ',\n",
       " 'รวมใจไทย',\n",
       " 'เศรษฐกิจใหม่',\n",
       " 'ไทยรักษาชาติ ',\n",
       " 'ถิ่นกาขาวชาววิไล',\n",
       " 'กลาง',\n",
       " 'ไทยธรรม',\n",
       " 'พลังธรรมใหม่',\n",
       " 'ครูไทยเพื่อประชาชน']"
      ]
     },
     "execution_count": 9,
     "metadata": {},
     "output_type": "execute_result"
    }
   ],
   "source": [
    "list(set(df.PartyName.values))"
   ]
  },
  {
   "cell_type": "code",
   "execution_count": null,
   "metadata": {},
   "outputs": [],
   "source": []
  }
 ],
 "metadata": {
  "kernelspec": {
   "display_name": "Python-3-Code4th",
   "language": "python",
   "name": "python-3-code4th"
  },
  "language_info": {
   "codemirror_mode": {
    "name": "ipython",
    "version": 3
   },
   "file_extension": ".py",
   "mimetype": "text/x-python",
   "name": "python",
   "nbconvert_exporter": "python",
   "pygments_lexer": "ipython3",
   "version": "3.7.2"
  },
  "toc": {
   "nav_menu": {},
   "number_sections": true,
   "sideBar": true,
   "skip_h1_title": false,
   "toc_cell": false,
   "toc_position": {},
   "toc_section_display": "block",
   "toc_window_display": false
  }
 },
 "nbformat": 4,
 "nbformat_minor": 2
}
