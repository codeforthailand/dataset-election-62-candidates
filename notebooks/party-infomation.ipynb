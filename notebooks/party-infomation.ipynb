{
 "cells": [
  {
   "cell_type": "code",
   "execution_count": 3,
   "metadata": {},
   "outputs": [],
   "source": [
    "import json\n",
    "import io\n",
    "import re"
   ]
  },
  {
   "cell_type": "code",
   "execution_count": 4,
   "metadata": {},
   "outputs": [],
   "source": [
    "with open ('../raw-files/all-party-information.json', 'r') as f:\n",
    "    parties = json.load(f)['data_list']"
   ]
  },
  {
   "cell_type": "code",
   "execution_count": 5,
   "metadata": {},
   "outputs": [
    {
     "data": {
      "text/plain": [
       "{'id': 92,\n",
       " 'id_dga': 203,\n",
       " 'name_th': 'พรรคกลาง',\n",
       " 'name_en': 'GLANG PARTY',\n",
       " 'logo': '94.png',\n",
       " 'leader': 'นายชุมพล ครุฑแก้ว',\n",
       " 'secretary': 'นายสุขทวี สุวรรณชัยรบ',\n",
       " 'board_list': '(กำลังปรับปรุงฐานข้อมูล) \\t \\t',\n",
       " 'address': '127 แขวงบางยี่ขัน เขตบางพลัด กรุงเทพฯ 10700',\n",
       " 'phone': '02-433-6996, 097-279-2397',\n",
       " 'fax': '02-433-6997',\n",
       " 'website': None,\n",
       " 'policy': 'พรรคกลางนำเสนอเทคโนโลยีเพื่อประชาธิปไตย ด้วยประชาธิปไตยทางตรง อำนาจจะอยู่ในมือ(ถือ)ของประชาชนตลอดไป [ปชช.มีส่วนร่วมได้ในทุกการตัดสินใจและเป็นผู้ลงประชามติได้ปีละหลายครั้ง รวมถึงการเสนอนโยบายเองได้ด้วยปลายนิ้ว] เราไม่มีนายทุนชี้นำเบื้องหลัง เราเป็นจิตอาสาจากหลากหลายอาชีพ เสียสละเข้ามาร่วมงาน ก้าวข้ามความขัดแย้ง พัฒนาอย่างสร้างสรรค์ เน้นแก้ปัญหาอย่างยั่งยืน มุ่งสร้างความเที่ยงธรรมในสังคม และ ส่งเสริมการมีส่วนร่วม/รับฟัง/กระจายอำนาจ ส.ส.พรรคกลางจะทำงานต่อเนื่องช่วยเหลือ ปชช. ผ่านศูนย์ร้องเรียน ที่จะช่วยให้คำปรึกษาด้านกฎหมายด้วยเครือข่ายจิตอาสา ส.ส.พรรคกลางจะสอบถามความเห็นสมาชิก/ปชช. ก่อนเข้าไปอภิปราย/ออกเสียงในสภา “ปชช.ทุกคนเป็นนักการเมืองได้”',\n",
       " 'donate_code': '203',\n",
       " 'value': 92,\n",
       " 'label': 'พรรคกลาง'}"
      ]
     },
     "execution_count": 5,
     "metadata": {},
     "output_type": "execute_result"
    }
   ],
   "source": [
    "parties[1]"
   ]
  },
  {
   "cell_type": "code",
   "execution_count": 4,
   "metadata": {},
   "outputs": [
    {
     "data": {
      "text/plain": [
       "'we have 104 parties'"
      ]
     },
     "execution_count": 4,
     "metadata": {},
     "output_type": "execute_result"
    }
   ],
   "source": [
    "'we have %d parties' % (len(parties))"
   ]
  },
  {
   "cell_type": "code",
   "execution_count": 5,
   "metadata": {},
   "outputs": [
    {
     "name": "stdout",
     "output_type": "stream",
     "text": [
      "We have 69 PM candidates\n"
     ]
    }
   ],
   "source": [
    "party2candidates = {}\n",
    "with open ('../raw-files/pm-candidates.json', 'r') as f:\n",
    "    candidates = json.load(f)['Result']\n",
    "print(\"We have %d PM candidates\" % len(candidates))\n",
    "for c in candidates:\n",
    "    pno = c['PartyNumber']\n",
    "    if pno not in party2candidates.keys():\n",
    "        party2candidates[pno] = [c]\n",
    "    else:\n",
    "        party2candidates[pno].append(c)"
   ]
  },
  {
   "cell_type": "code",
   "execution_count": 6,
   "metadata": {},
   "outputs": [
    {
     "data": {
      "text/plain": [
       "[{'Sequence': 1,\n",
       "  'Title': 'นาย',\n",
       "  'FirstName': 'พงศา',\n",
       "  'LastName': 'ชูแนม',\n",
       "  'PartyNumber': 206,\n",
       "  'PartyName': 'กรีน'}]"
      ]
     },
     "execution_count": 6,
     "metadata": {},
     "output_type": "execute_result"
    }
   ],
   "source": [
    "party2candidates[206]"
   ]
  },
  {
   "cell_type": "code",
   "execution_count": 7,
   "metadata": {},
   "outputs": [],
   "source": [
    "def write_line(s, template):\n",
    "    s.write('{}\\n\\n'.format(template))\n",
    "    \n",
    "def parties_md_parties(f, n=5):\n",
    "\n",
    "    for i, p in enumerate(parties[:n]):\n",
    "        if n is not None and n < 10:\n",
    "            print(p)\n",
    "        write_func = lambda t: write_line(f, t.format(**p))\n",
    "#         f.write(.format(**p))\n",
    "        write_func('## %d {name_th} ({name_en})' % (i+1))\n",
    "        write_func('#### หัวหน้าพรรค {leader}')\n",
    "        write_func('**Donation code:** {donate_code}')\n",
    "        write_func('**Address:** {address}')\n",
    "        write_func('**Website:** {website}')\n",
    "        write_func('**Policy**\\n```\\n{policy}\\n```')\n",
    "\n",
    "        if p['id_dga'] in party2candidates.keys():\n",
    "            write_func('**PM Candidates**')\n",
    "            for c in sorted(party2candidates[p['id_dga']], key=lambda x: x['Sequence']):\n",
    "                write_func('{Sequence}. {Title} {FirstName} {LastName}'.format(**c))\n",
    "        write_func('')\n",
    "sio = io.StringIO()\n",
    "parties_md_parties(sio, n=None)"
   ]
  },
  {
   "cell_type": "code",
   "execution_count": 8,
   "metadata": {},
   "outputs": [],
   "source": [
    "with open('../raw-files/all-party-infomation-with-pm-candidates.md', 'w') as f:\n",
    "    f.write(sio.getvalue())"
   ]
  },
  {
   "cell_type": "code",
   "execution_count": 9,
   "metadata": {},
   "outputs": [
    {
     "name": "stdout",
     "output_type": "stream",
     "text": [
      "no id_dga key for key=22 (พรรคเครือข่ายชาวนาแห่งประเทศไทย)\n",
      "no id_dga key for key=158 (พรรคเงินเดือนประชาชน)\n",
      "no id_dga key for key=152 (พรรคชาติไทยสามัคคี)\n",
      "no id_dga key for key=141 (พรรคชาติประชาธิปไตยก้าวหน้า)\n",
      "no id_dga key for key=129 (พรรคถิ่นกาขาวชาววิไล)\n",
      "no id_dga key for key=53 (พรรคแทนคุณแผ่นดิน)\n",
      "no id_dga key for key=96 (พรรคไทยมหารัฐพัฒนา)\n",
      "no id_dga key for key=77 (พรรคไทยรักษาชาติ)\n",
      "no id_dga key for key=194 (พรรคไทยรุ่งเรือง)\n",
      "no id_dga key for key=144 (พรรคไทรักธรรม)\n",
      "no id_dga key for key=59 (พรรคธรรมาภิบาลสังคม)\n",
      "no id_dga key for key=160 (พรรคปฏิรูปไทย)\n",
      "no id_dga key for key=176 (พรรคประชาชนปฏิรูป)\n",
      "no id_dga key for key=205 (พรรคประชาไทย)\n",
      "no id_dga key for key=73 (พรรคประชาธรรม)\n",
      "no id_dga key for key=169 (พรรคประชาธิปไตยเพื่อประชาชน)\n",
      "no id_dga key for key=91 (พรรคประชาสามัคคี)\n",
      "no id_dga key for key=164 (พรรคผึ้งหลวง)\n",
      "no id_dga key for key=163 (พรรคพลังเกษตรกรไทย)\n",
      "no id_dga key for key=82 (พรรคพลังคนกีฬา)\n",
      "no id_dga key for key=210 (พรรคพลังครูไทย)\n",
      "no id_dga key for key=127 (พรรคพลังเครือข่ายประชาชน)\n",
      "no id_dga key for key=112 (พรรคพลังชล)\n",
      "no id_dga key for key=155 (พรรคพลังไทยรักชาติ)\n",
      "no id_dga key for key=200 (พรรคพลังไทสร้างชาติ)\n",
      "no id_dga key for key=175 (พรรคพลังธรรมใหม่)\n",
      "no id_dga key for key=143 (พรรคพลังประเทศไทย)\n",
      "no id_dga key for key=184 (พรรคพลังปวงชนไทย)\n",
      "no id_dga key for key=202 (พรรคพลังแผ่นดินทอง)\n",
      "no id_dga key for key=204 (พรรคพลังเพื่อไทย)\n",
      "no id_dga key for key=195 (พรรคพลังรัก)\n",
      "no id_dga key for key=199 (พรรคพลังแรงงานไทย)\n",
      "no id_dga key for key=201 (พรรคพลังศรัทธา)\n",
      "no id_dga key for key=122 (พรรคพลังสหกรณ์)\n",
      "no id_dga key for key=214 (พรรคพัฒนาชาติ)\n",
      "no id_dga key for key=149 (พรรคเพื่อชาติ)\n",
      "no id_dga key for key=213 (พรรคเพื่อไทยพัฒนา)\n",
      "no id_dga key for key=179 (พรรคเพื่อนไทย)\n",
      "no id_dga key for key=41 (พรรคเพื่อแผ่นดิน)\n",
      "no id_dga key for key=10 (พรรคเพื่อฟ้าดิน)\n",
      "no id_dga key for key=167 (พรรคเพื่อสหกรณ์ไทย)\n",
      "no id_dga key for key=142 (พรรคเพื่อสันติ)\n",
      "no id_dga key for key=150 (พรรคเพื่ออนาคต)\n",
      "no id_dga key for key=197 (พรรคภูมิพลังเกษตรกรไทย)\n",
      "no id_dga key for key=171 (พรรคมติประชา)\n",
      "no id_dga key for key=165 (พรรคมหาประชาชน)\n",
      "no id_dga key for key=156 (พรรคเมืองไทยของเรา)\n",
      "no id_dga key for key=116 (พรรคยางพาราไทย)\n",
      "no id_dga key for key=174 (พรรครวมใจไทย)\n",
      "no id_dga key for key=148 (พรรครวมพลังไทย)\n",
      "no id_dga key for key=181 (พรรครวมพลังประชาชาติไทย)\n",
      "no id_dga key for key=162 (พรรครักท้องถิ่นไทย)\n",
      "no id_dga key for key=89 (พรรครักประเทศไทย)\n",
      "no id_dga key for key=147 (พรรครักษ์ธรรม)\n",
      "no id_dga key for key=133 (พรรครักษ์ผืนป่าประเทศไทย)\n",
      "no id_dga key for key=115 (พรรคสร้างไทย)\n",
      "no id_dga key for key=209 (พรรคสามัญชน)\n",
      "no id_dga key for key=56 (พรรคอนาคตไทย)\n",
      "no id_dga key for key=168 (พรรคเอกราชไทย)\n"
     ]
    }
   ],
   "source": [
    "def merge_party_info():\n",
    "    results = []\n",
    "    \n",
    "    for p in parties:\n",
    "        p = dict(**p)\n",
    "        if p['id_dga'] in party2candidates.keys():\n",
    "            pm_candidates = list(sorted(party2candidates[p['id_dga']], key=lambda x: x['Sequence']))\n",
    "        else:\n",
    "            pm_candidates = []\n",
    "            print('no id_dga key for key=%s (%s)' % (p['id_dga'], p['name_th']))\n",
    "        p['pm_candidates'] = pm_candidates\n",
    "        p['slug'] = p['name_th'].replace('พรรค', '').strip()\n",
    "        p['terminated'] = p['id_dga'] == 77\n",
    "        results.append(p)\n",
    "    return results\n",
    "\n",
    "party_info_merged = merge_party_info()"
   ]
  },
  {
   "cell_type": "code",
   "execution_count": 10,
   "metadata": {},
   "outputs": [],
   "source": [
    "with open('../data/party-information.json', 'w') as f:\n",
    "    json.dump(party_info_merged, f, ensure_ascii=False)"
   ]
  },
  {
   "cell_type": "code",
   "execution_count": 11,
   "metadata": {},
   "outputs": [
    {
     "data": {
      "text/plain": [
       "{'id': 95,\n",
       " 'id_dga': 206,\n",
       " 'name_th': 'พรรคกรีน',\n",
       " 'name_en': 'Green Party',\n",
       " 'logo': '97.png',\n",
       " 'leader': 'นายพงศา ชูแนม',\n",
       " 'secretary': 'นายวีระพงศ์ สกล',\n",
       " 'board_list': '(กำลังปรับปรุงฐานข้อมูล) \\t \\t',\n",
       " 'address': '699 ซ.จรัลสนิทวงศ์ 12 วัดท่าพระ บางกอกใหญ่ กทม. 10600',\n",
       " 'phone': '081-894-1973',\n",
       " 'fax': '',\n",
       " 'website': None,\n",
       " 'policy': 'พรรคกรีนเป็นพรรคสากลลำดับที่ 64 ของโลกมีนโยบายสอดคล้องกันทั้ง 4 ข้อ คือ \\n\\n1) ต้นไม้เป็นทรัพย์สิน : ออกกฎหมายรับรองต้นไม้ให้เป็นหลักทรัพย์โดยการออกบัตรคนรวย TAC ; tree asset card \\n\\n2) ที่ทำกินถูกต้องเป็นธรรม : คือการออกมาตรการให้ที่ดินทำกินให้ชอบด้วยกฎหมายแก้ปัญหาคนในเขตป่า 17 ล้านคนด้วยแนวทางให้สิทธิสีเขียว right&green \\n\\n3) เกษตรกรรมสุขภาพ : เพื่อคุ้มครองสิทธิเกษตรกรที่ผลิตอาหารสุขภาพให้มีความเท่าทัน ตามอุดมการณ์ ลดอำนาจรัฐ ตัดอำนาจทุน หนุนอำนาจประชาชน \\n\\n4) สันติภาพยั่งยืน : การให้สภาประชาชนในโลกดิจิทัลตรวจสอบกำกับรัฐและทุน เช่นการใช้สมการราคากำกับสินค้าให้สัมพันธ์กับราคาพืชผล',\n",
       " 'donate_code': '206',\n",
       " 'value': 95,\n",
       " 'label': 'พรรคกรีน',\n",
       " 'pm_candidates': [{'Sequence': 1,\n",
       "   'Title': 'นาย',\n",
       "   'FirstName': 'พงศา',\n",
       "   'LastName': 'ชูแนม',\n",
       "   'PartyNumber': 206,\n",
       "   'PartyName': 'กรีน'}],\n",
       " 'slug': 'กรีน',\n",
       " 'terminated': False}"
      ]
     },
     "execution_count": 11,
     "metadata": {},
     "output_type": "execute_result"
    }
   ],
   "source": [
    "party_info_merged[0]"
   ]
  },
  {
   "cell_type": "code",
   "execution_count": 6,
   "metadata": {},
   "outputs": [],
   "source": [
    "partiesDict = dict(map(lambda x: (x['name_th'].replace('พรรค',''), x), parties))"
   ]
  },
  {
   "cell_type": "code",
   "execution_count": 7,
   "metadata": {},
   "outputs": [
    {
     "data": {
      "text/plain": [
       "{'id': 81,\n",
       " 'id_dga': 192,\n",
       " 'name_th': 'พรรคพลังประชารัฐ',\n",
       " 'name_en': 'PALANG PRACHARATH PARTY',\n",
       " 'logo': '83.png',\n",
       " 'leader': 'นายอุตตม สาวนายน',\n",
       " 'secretary': 'นายสนธิรัตน์ สนธิจิรวงศ์',\n",
       " 'board_list': '(กำลังปรับปรุงฐานข้อมูล) \\t \\t',\n",
       " 'address': '130/1 ซ.รัชดาภิเษก 54 ถ.รัชดาภิเษก แขวงลาดยาว เขตจตุจักร กทม. 10900',\n",
       " 'phone': '093-596-1526',\n",
       " 'fax': '',\n",
       " 'website': None,\n",
       " 'policy': '(1) สวัสดิการประชารัฐ เพื่อขจัดความเหลื่อมล้ำผ่านบัตรประชารัฐ การให้สวัสดิการรายกลุ่ม ลดหนี้สร้างเงินออม และช่วยเหลือด้านที่อยู่อาศัยและที่ทำกิน \\n\\n(2) สังคมประชารัฐ เพื่อสร้างสังคมสงบสุข เข้มแข็งแบ่งปัน ผ่านการพัฒนา การศึกษา การกระจายความเจริญ การสร้างเมืองอัจฉริยะสีเขียว การพัฒนาชุมชนสีขาว กรุงเทพ 5.0 \\n\\n(3) เศรษฐกิจประชารัฐ เพื่อสร้างความสามารถและโอกาสที่เท่าเทียม ผ่านการยกระดับความสามารถผู้ผลิต การเกษตรประชารัฐ การท่องเที่ยวชุมชนและเศรษฐกิจสร้างสรรค์ เศรษฐกิจชีวภาพ การพัฒนาโครงสร้างพื้นฐานแห่งอนาคต และการลดอุปสรรคในการดำเนินธุรกิจ',\n",
       " 'donate_code': '192',\n",
       " 'value': 81,\n",
       " 'label': 'พรรคพลังประชารัฐ'}"
      ]
     },
     "execution_count": 7,
     "metadata": {},
     "output_type": "execute_result"
    }
   ],
   "source": [
    "partiesDict['พลังประชารัฐ']"
   ]
  },
  {
   "cell_type": "code",
   "execution_count": null,
   "metadata": {},
   "outputs": [],
   "source": []
  }
 ],
 "metadata": {
  "kernelspec": {
   "display_name": "Python-3-Code4th",
   "language": "python",
   "name": "python-3-code4th"
  },
  "language_info": {
   "codemirror_mode": {
    "name": "ipython",
    "version": 3
   },
   "file_extension": ".py",
   "mimetype": "text/x-python",
   "name": "python",
   "nbconvert_exporter": "python",
   "pygments_lexer": "ipython3",
   "version": "3.7.2"
  },
  "toc": {
   "nav_menu": {},
   "number_sections": true,
   "sideBar": true,
   "skip_h1_title": false,
   "toc_cell": false,
   "toc_position": {},
   "toc_section_display": "block",
   "toc_window_display": false
  }
 },
 "nbformat": 4,
 "nbformat_minor": 2
}
